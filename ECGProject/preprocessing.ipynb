{
 "cells": [
  {
   "cell_type": "code",
   "execution_count": 9,
   "id": "1d836db0",
   "metadata": {},
   "outputs": [
    {
     "name": "stdout",
     "output_type": "stream",
     "text": [
      "Collecting kagglehub\n",
      "  Downloading kagglehub-0.3.11-py3-none-any.whl (63 kB)\n",
      "     -------------------------------------- 63.4/63.4 kB 681.8 kB/s eta 0:00:00\n",
      "Requirement already satisfied: requests in f:\\anaconda\\lib\\site-packages (from kagglehub) (2.32.3)\n",
      "Requirement already satisfied: pyyaml in f:\\anaconda\\lib\\site-packages (from kagglehub) (6.0.2)\n",
      "Requirement already satisfied: tqdm in f:\\anaconda\\lib\\site-packages (from kagglehub) (4.64.1)\n",
      "Requirement already satisfied: packaging in f:\\anaconda\\lib\\site-packages (from kagglehub) (24.2)\n",
      "Requirement already satisfied: urllib3<3,>=1.21.1 in f:\\anaconda\\lib\\site-packages (from requests->kagglehub) (1.26.14)\n",
      "Requirement already satisfied: certifi>=2017.4.17 in f:\\anaconda\\lib\\site-packages (from requests->kagglehub) (2024.12.14)\n",
      "Requirement already satisfied: idna<4,>=2.5 in f:\\anaconda\\lib\\site-packages (from requests->kagglehub) (3.4)\n",
      "Requirement already satisfied: charset-normalizer<4,>=2 in f:\\anaconda\\lib\\site-packages (from requests->kagglehub) (2.0.4)\n",
      "Requirement already satisfied: colorama in f:\\anaconda\\lib\\site-packages (from tqdm->kagglehub) (0.4.6)\n",
      "Installing collected packages: kagglehub\n",
      "Successfully installed kagglehub-0.3.11\n",
      "Note: you may need to restart the kernel to use updated packages.\n"
     ]
    }
   ],
   "source": [
    "pip install kagglehub"
   ]
  },
  {
   "cell_type": "code",
   "execution_count": 1,
   "id": "34555773",
   "metadata": {},
   "outputs": [
    {
     "name": "stdout",
     "output_type": "stream",
     "text": [
      "Downloading from https://www.kaggle.com/api/v1/datasets/download/protobioengineering/mit-bih-arrhythmia-database-modern-2023?dataset_version_number=2...\n"
     ]
    },
    {
     "name": "stderr",
     "output_type": "stream",
     "text": [
      "100%|████████████████████████████████████████████████████████████████████████████████| 235M/235M [04:34<00:00, 898kB/s]"
     ]
    },
    {
     "name": "stdout",
     "output_type": "stream",
     "text": [
      "Extracting files...\n"
     ]
    },
    {
     "name": "stderr",
     "output_type": "stream",
     "text": [
      "\n"
     ]
    },
    {
     "name": "stdout",
     "output_type": "stream",
     "text": [
      "Path to dataset files: C:\\Users\\LENOVO\\.cache\\kagglehub\\datasets\\protobioengineering\\mit-bih-arrhythmia-database-modern-2023\\versions\\2\n"
     ]
    }
   ],
   "source": [
    "import kagglehub\n",
    "\n",
    "# Download latest version\n",
    "path = kagglehub.dataset_download(\"protobioengineering/mit-bih-arrhythmia-database-modern-2023\")\n",
    "\n",
    "print(\"Path to dataset files:\", path)"
   ]
  },
  {
   "cell_type": "code",
   "execution_count": 2,
   "id": "05984cb7",
   "metadata": {},
   "outputs": [
    {
     "name": "stdout",
     "output_type": "stream",
     "text": [
      "C:\\Users\\LENOVO\\.cache\\kagglehub\\datasets\\protobioengineering\\mit-bih-arrhythmia-database-modern-2023\\versions\\2\\100.csv\n",
      "C:\\Users\\LENOVO\\.cache\\kagglehub\\datasets\\protobioengineering\\mit-bih-arrhythmia-database-modern-2023\\versions\\2\\101.csv\n",
      "C:\\Users\\LENOVO\\.cache\\kagglehub\\datasets\\protobioengineering\\mit-bih-arrhythmia-database-modern-2023\\versions\\2\\102.csv\n",
      "C:\\Users\\LENOVO\\.cache\\kagglehub\\datasets\\protobioengineering\\mit-bih-arrhythmia-database-modern-2023\\versions\\2\\103.csv\n",
      "C:\\Users\\LENOVO\\.cache\\kagglehub\\datasets\\protobioengineering\\mit-bih-arrhythmia-database-modern-2023\\versions\\2\\104.csv\n",
      "C:\\Users\\LENOVO\\.cache\\kagglehub\\datasets\\protobioengineering\\mit-bih-arrhythmia-database-modern-2023\\versions\\2\\105.csv\n",
      "C:\\Users\\LENOVO\\.cache\\kagglehub\\datasets\\protobioengineering\\mit-bih-arrhythmia-database-modern-2023\\versions\\2\\106.csv\n",
      "C:\\Users\\LENOVO\\.cache\\kagglehub\\datasets\\protobioengineering\\mit-bih-arrhythmia-database-modern-2023\\versions\\2\\107.csv\n",
      "C:\\Users\\LENOVO\\.cache\\kagglehub\\datasets\\protobioengineering\\mit-bih-arrhythmia-database-modern-2023\\versions\\2\\108.csv\n",
      "C:\\Users\\LENOVO\\.cache\\kagglehub\\datasets\\protobioengineering\\mit-bih-arrhythmia-database-modern-2023\\versions\\2\\109.csv\n",
      "C:\\Users\\LENOVO\\.cache\\kagglehub\\datasets\\protobioengineering\\mit-bih-arrhythmia-database-modern-2023\\versions\\2\\111.csv\n",
      "C:\\Users\\LENOVO\\.cache\\kagglehub\\datasets\\protobioengineering\\mit-bih-arrhythmia-database-modern-2023\\versions\\2\\112.csv\n",
      "C:\\Users\\LENOVO\\.cache\\kagglehub\\datasets\\protobioengineering\\mit-bih-arrhythmia-database-modern-2023\\versions\\2\\113.csv\n",
      "C:\\Users\\LENOVO\\.cache\\kagglehub\\datasets\\protobioengineering\\mit-bih-arrhythmia-database-modern-2023\\versions\\2\\114.csv\n",
      "C:\\Users\\LENOVO\\.cache\\kagglehub\\datasets\\protobioengineering\\mit-bih-arrhythmia-database-modern-2023\\versions\\2\\115.csv\n",
      "C:\\Users\\LENOVO\\.cache\\kagglehub\\datasets\\protobioengineering\\mit-bih-arrhythmia-database-modern-2023\\versions\\2\\116.csv\n",
      "C:\\Users\\LENOVO\\.cache\\kagglehub\\datasets\\protobioengineering\\mit-bih-arrhythmia-database-modern-2023\\versions\\2\\117.csv\n",
      "C:\\Users\\LENOVO\\.cache\\kagglehub\\datasets\\protobioengineering\\mit-bih-arrhythmia-database-modern-2023\\versions\\2\\118.csv\n",
      "C:\\Users\\LENOVO\\.cache\\kagglehub\\datasets\\protobioengineering\\mit-bih-arrhythmia-database-modern-2023\\versions\\2\\119.csv\n",
      "C:\\Users\\LENOVO\\.cache\\kagglehub\\datasets\\protobioengineering\\mit-bih-arrhythmia-database-modern-2023\\versions\\2\\121.csv\n",
      "C:\\Users\\LENOVO\\.cache\\kagglehub\\datasets\\protobioengineering\\mit-bih-arrhythmia-database-modern-2023\\versions\\2\\122.csv\n",
      "C:\\Users\\LENOVO\\.cache\\kagglehub\\datasets\\protobioengineering\\mit-bih-arrhythmia-database-modern-2023\\versions\\2\\123.csv\n",
      "C:\\Users\\LENOVO\\.cache\\kagglehub\\datasets\\protobioengineering\\mit-bih-arrhythmia-database-modern-2023\\versions\\2\\124.csv\n",
      "C:\\Users\\LENOVO\\.cache\\kagglehub\\datasets\\protobioengineering\\mit-bih-arrhythmia-database-modern-2023\\versions\\2\\200.csv\n",
      "C:\\Users\\LENOVO\\.cache\\kagglehub\\datasets\\protobioengineering\\mit-bih-arrhythmia-database-modern-2023\\versions\\2\\201.csv\n",
      "C:\\Users\\LENOVO\\.cache\\kagglehub\\datasets\\protobioengineering\\mit-bih-arrhythmia-database-modern-2023\\versions\\2\\202.csv\n",
      "C:\\Users\\LENOVO\\.cache\\kagglehub\\datasets\\protobioengineering\\mit-bih-arrhythmia-database-modern-2023\\versions\\2\\203.csv\n",
      "C:\\Users\\LENOVO\\.cache\\kagglehub\\datasets\\protobioengineering\\mit-bih-arrhythmia-database-modern-2023\\versions\\2\\205.csv\n",
      "C:\\Users\\LENOVO\\.cache\\kagglehub\\datasets\\protobioengineering\\mit-bih-arrhythmia-database-modern-2023\\versions\\2\\207.csv\n",
      "C:\\Users\\LENOVO\\.cache\\kagglehub\\datasets\\protobioengineering\\mit-bih-arrhythmia-database-modern-2023\\versions\\2\\208.csv\n",
      "C:\\Users\\LENOVO\\.cache\\kagglehub\\datasets\\protobioengineering\\mit-bih-arrhythmia-database-modern-2023\\versions\\2\\209.csv\n",
      "C:\\Users\\LENOVO\\.cache\\kagglehub\\datasets\\protobioengineering\\mit-bih-arrhythmia-database-modern-2023\\versions\\2\\210.csv\n",
      "C:\\Users\\LENOVO\\.cache\\kagglehub\\datasets\\protobioengineering\\mit-bih-arrhythmia-database-modern-2023\\versions\\2\\212.csv\n",
      "C:\\Users\\LENOVO\\.cache\\kagglehub\\datasets\\protobioengineering\\mit-bih-arrhythmia-database-modern-2023\\versions\\2\\213.csv\n",
      "C:\\Users\\LENOVO\\.cache\\kagglehub\\datasets\\protobioengineering\\mit-bih-arrhythmia-database-modern-2023\\versions\\2\\214.csv\n",
      "C:\\Users\\LENOVO\\.cache\\kagglehub\\datasets\\protobioengineering\\mit-bih-arrhythmia-database-modern-2023\\versions\\2\\215.csv\n",
      "C:\\Users\\LENOVO\\.cache\\kagglehub\\datasets\\protobioengineering\\mit-bih-arrhythmia-database-modern-2023\\versions\\2\\217.csv\n",
      "C:\\Users\\LENOVO\\.cache\\kagglehub\\datasets\\protobioengineering\\mit-bih-arrhythmia-database-modern-2023\\versions\\2\\219.csv\n",
      "C:\\Users\\LENOVO\\.cache\\kagglehub\\datasets\\protobioengineering\\mit-bih-arrhythmia-database-modern-2023\\versions\\2\\220.csv\n",
      "C:\\Users\\LENOVO\\.cache\\kagglehub\\datasets\\protobioengineering\\mit-bih-arrhythmia-database-modern-2023\\versions\\2\\221.csv\n",
      "C:\\Users\\LENOVO\\.cache\\kagglehub\\datasets\\protobioengineering\\mit-bih-arrhythmia-database-modern-2023\\versions\\2\\222.csv\n",
      "C:\\Users\\LENOVO\\.cache\\kagglehub\\datasets\\protobioengineering\\mit-bih-arrhythmia-database-modern-2023\\versions\\2\\223.csv\n",
      "C:\\Users\\LENOVO\\.cache\\kagglehub\\datasets\\protobioengineering\\mit-bih-arrhythmia-database-modern-2023\\versions\\2\\228.csv\n",
      "C:\\Users\\LENOVO\\.cache\\kagglehub\\datasets\\protobioengineering\\mit-bih-arrhythmia-database-modern-2023\\versions\\2\\230.csv\n",
      "C:\\Users\\LENOVO\\.cache\\kagglehub\\datasets\\protobioengineering\\mit-bih-arrhythmia-database-modern-2023\\versions\\2\\231.csv\n",
      "C:\\Users\\LENOVO\\.cache\\kagglehub\\datasets\\protobioengineering\\mit-bih-arrhythmia-database-modern-2023\\versions\\2\\232.csv\n",
      "C:\\Users\\LENOVO\\.cache\\kagglehub\\datasets\\protobioengineering\\mit-bih-arrhythmia-database-modern-2023\\versions\\2\\233.csv\n",
      "C:\\Users\\LENOVO\\.cache\\kagglehub\\datasets\\protobioengineering\\mit-bih-arrhythmia-database-modern-2023\\versions\\2\\234.csv\n"
     ]
    }
   ],
   "source": [
    "import os\n",
    "\n",
    "# Show what's inside the downloaded folder\n",
    "for root, dirs, files in os.walk(path):\n",
    "    for file in files:\n",
    "        print(os.path.join(root, file))"
   ]
  },
  {
   "cell_type": "code",
   "execution_count": 5,
   "id": "a3ba774d",
   "metadata": {},
   "outputs": [],
   "source": [
    "import os\n",
    "import pandas as pd\n",
    "import numpy as np\n",
    "import matplotlib.pyplot as plt\n",
    "from scipy.signal import butter, filtfilt\n",
    "\n",
    "# Path to your downloaded dataset\n",
    "DATA_PATH = r\"C:\\Users\\LENOVO\\.cache\\kagglehub\\datasets\\protobioengineering\\mit-bih-arrhythmia-database-modern-2023\\versions\\2\""
   ]
  },
  {
   "cell_type": "code",
   "execution_count": 6,
   "id": "7287f277",
   "metadata": {},
   "outputs": [],
   "source": [
    "def bandpass_filter(signal, lowcut=0.5, highcut=45.0, fs=360, order=4):\n",
    "    nyq = 0.5 * fs\n",
    "    low = lowcut / nyq\n",
    "    high = highcut / nyq\n",
    "    b, a = butter(order, [low, high], btype='band')\n",
    "    return filtfilt(b, a, signal)\n",
    "\n",
    "def normalize_signal(signal):\n",
    "    return (signal - np.mean(signal)) / np.std(signal)"
   ]
  },
  {
   "cell_type": "code",
   "execution_count": 9,
   "id": "f352c9b1",
   "metadata": {},
   "outputs": [],
   "source": [
    "def load_preprocess_csv(record_id, fs=360):\n",
    "    filepath = os.path.join(DATA_PATH, f\"{record_id}.csv\")\n",
    "    \n",
    "    # Read and force numeric values only\n",
    "    df = pd.read_csv(filepath, header=None, dtype=str)  # Read as string first\n",
    "    df = df.apply(pd.to_numeric, errors='coerce')       # Convert to numeric, set invalid to NaN\n",
    "    \n",
    "    # Drop rows/columns that are entirely NaN\n",
    "    df.dropna(axis=1, how='all', inplace=True)\n",
    "    df.dropna(axis=0, how='any', inplace=True)  # Remove rows with NaN (optional, based on data quality)\n",
    "\n",
    "    # Use first available column as ECG signal\n",
    "    signal = df.iloc[:, 0].values\n",
    "\n",
    "    # Preprocess\n",
    "    filtered = bandpass_filter(signal, fs=fs)\n",
    "    normalized = normalize_signal(filtered)\n",
    "\n",
    "    return normalized"
   ]
  },
  {
   "cell_type": "code",
   "execution_count": 10,
   "id": "4a200dc3",
   "metadata": {},
   "outputs": [
    {
     "data": {
      "image/png": "[encoded data removed]",
      "text/plain": [
       "<Figure size 1200x400 with 1 Axes>"
      ]
     },
     "metadata": {},
     "output_type": "display_data"
    }
   ],
   "source": [
    "record = \"100\"\n",
    "ecg = load_preprocess_csv(record)\n",
    "\n",
    "plt.figure(figsize=(12, 4))\n",
    "plt.plot(ecg[:1000])\n",
    "plt.title(f\"Preprocessed ECG Signal from Record {record}\")\n",
    "plt.xlabel(\"Sample Index\")\n",
    "plt.ylabel(\"Amplitude (Normalized)\")\n",
    "plt.grid(True)\n",
    "plt.show()"
   ]
  },
  {
   "cell_type": "code",
   "execution_count": 11,
   "id": "df9c2ae6",
   "metadata": {},
   "outputs": [
    {
     "name": "stdout",
     "output_type": "stream",
     "text": [
      "✅ 100 processed\n",
      "✅ 101 processed\n",
      "✅ 102 processed\n",
      "✅ 103 processed\n",
      "✅ 104 processed\n",
      "✅ 105 processed\n",
      "✅ 106 processed\n",
      "✅ 107 processed\n",
      "✅ 108 processed\n",
      "✅ 109 processed\n",
      "✅ 111 processed\n",
      "✅ 112 processed\n",
      "✅ 113 processed\n",
      "✅ 114 processed\n",
      "✅ 115 processed\n",
      "✅ 116 processed\n",
      "✅ 117 processed\n",
      "✅ 118 processed\n",
      "✅ 119 processed\n",
      "✅ 121 processed\n",
      "✅ 122 processed\n",
      "✅ 123 processed\n",
      "✅ 124 processed\n",
      "✅ 200 processed\n",
      "✅ 201 processed\n",
      "✅ 202 processed\n",
      "✅ 203 processed\n",
      "✅ 205 processed\n",
      "✅ 207 processed\n",
      "✅ 208 processed\n",
      "✅ 209 processed\n",
      "✅ 210 processed\n",
      "✅ 212 processed\n",
      "✅ 213 processed\n",
      "✅ 214 processed\n",
      "✅ 215 processed\n",
      "✅ 217 processed\n",
      "✅ 219 processed\n",
      "✅ 220 processed\n",
      "✅ 221 processed\n",
      "✅ 222 processed\n",
      "✅ 223 processed\n",
      "✅ 228 processed\n",
      "✅ 230 processed\n",
      "✅ 231 processed\n",
      "✅ 232 processed\n",
      "✅ 233 processed\n",
      "✅ 234 processed\n"
     ]
    }
   ],
   "source": [
    "processed_data = {}\n",
    "\n",
    "for file in os.listdir(DATA_PATH):\n",
    "    if file.endswith(\".csv\"):\n",
    "        rec_id = file.replace(\".csv\", \"\")\n",
    "        try:\n",
    "            ecg = load_preprocess_csv(rec_id)\n",
    "            processed_data[rec_id] = ecg\n",
    "            print(f\"✅ {rec_id} processed\")\n",
    "        except Exception as e:\n",
    "            print(f\"❌ {rec_id} failed: {e}\")"
   ]
  },
  {
   "cell_type": "code",
   "execution_count": null,
   "id": "87a4c6a1",
   "metadata": {},
   "outputs": [],
   "source": []
  }
 ],
 "metadata": {
  "kernelspec": {
   "display_name": "Python 3 (ipykernel)",
   "language": "python",
   "name": "python3"
  },
  "language_info": {
   "codemirror_mode": {
    "name": "ipython",
    "version": 3
   },
   "file_extension": ".py",
   "mimetype": "text/x-python",
   "name": "python",
   "nbconvert_exporter": "python",
   "pygments_lexer": "ipython3",
   "version": "3.10.9"
  }
 },
 "nbformat": 4,
 "nbformat_minor": 5
}
